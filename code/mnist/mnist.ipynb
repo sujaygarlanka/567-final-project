{
 "cells": [
  {
   "cell_type": "code",
   "execution_count": 1,
   "metadata": {},
   "outputs": [],
   "source": [
    "import sys\n",
    "sys.path.append('../')\n",
    "from lib.layers import *\n",
    "from lib.utils import *\n",
    "%load_ext autoreload\n",
    "%autoreload 2\n",
    "\n",
    "import torch\n",
    "import torchvision\n",
    "import numpy as np\n",
    "from IPython import embed"
   ]
  },
  {
   "cell_type": "code",
   "execution_count": 2,
   "metadata": {},
   "outputs": [],
   "source": [
    "# Download data\n",
    "MNIST_MEAN = 0.1307\n",
    "MNIST_STDEV = 0.3081\n",
    "\n",
    "def get_mnist(get_train_set):\n",
    "  return torchvision.datasets.MNIST(\n",
    "      root=\"data\",\n",
    "      train=get_train_set,\n",
    "      download=True,\n",
    "      # For demonstration\n",
    "      transform=torchvision.transforms.Compose([\n",
    "          torchvision.transforms.ToTensor(),\n",
    "          torchvision.transforms.Normalize((MNIST_MEAN,), (MNIST_STDEV,))\n",
    "      ])\n",
    "  )\n",
    "\n",
    "trn_set = get_mnist(get_train_set=True)\n",
    "val_set = get_mnist(get_train_set=False)  # Technically the test set"
   ]
  },
  {
   "cell_type": "code",
   "execution_count": 3,
   "metadata": {},
   "outputs": [],
   "source": [
    "class NN(Network):\n",
    "\n",
    "    def __init__(self):\n",
    "        self.layers = [\n",
    "            FC(28*28, 5, \"relu\"),\n",
    "            FC(5, 10)\n",
    "        ]\n",
    "\n",
    "    def __call__(self, inputs):\n",
    "        output = []\n",
    "        inputs = inputs.reshape(-1, 28*28)\n",
    "        for input in inputs:\n",
    "            x = self.layers[0](input)\n",
    "            x = self.layers[1](x)\n",
    "            output.append(x)\n",
    "        return np.array(output)"
   ]
  },
  {
   "cell_type": "code",
   "execution_count": 4,
   "metadata": {},
   "outputs": [],
   "source": [
    "class NN2(Network):\n",
    "\n",
    "    def __init__(self):\n",
    "        self.layers = [\n",
    "            FC(28*28, 64, \"relu\"),\n",
    "            FC(64, 64, \"relu\"),\n",
    "            FC(64, 10)\n",
    "        ]\n",
    "\n",
    "    def __call__(self, inputs):\n",
    "        output = []\n",
    "        inputs = inputs.reshape(-1, 28*28)\n",
    "        for input in inputs:\n",
    "            x = self.layers[0](input)\n",
    "            x = self.layers[1](x)\n",
    "            x = self.layers[2](x)\n",
    "            output.append(x)\n",
    "        return np.array(output)"
   ]
  },
  {
   "cell_type": "code",
   "execution_count": 5,
   "metadata": {},
   "outputs": [],
   "source": [
    "# Data formatting\n",
    "NUM_DATA = 1000\n",
    "trn_set_np = []\n",
    "trn_set_np_labels = []\n",
    "for d in range(NUM_DATA):\n",
    "    trn_set_np.append(np.array(trn_set[d][0][0]))\n",
    "    trn_set_np_labels.append(np.array(trn_set[d][1]))\n",
    "trn_set_np = np.array(trn_set_np)\n",
    "trn_set_np_labels = np.array(trn_set_np_labels)\n",
    "# trn_set_one_hot_labels = np.zeros((len(trn_set_np_labels), 10))\n",
    "# for i, l in enumerate(trn_set_np_labels):\n",
    "#     trn_set_one_hot_labels[i][l] = 1\n",
    "\n",
    "# val_set_np = np.array(val_set[:][])\n",
    "# val_set_np_labels = np.array(val_set.targets)"
   ]
  },
  {
   "cell_type": "code",
   "execution_count": 6,
   "metadata": {},
   "outputs": [],
   "source": [
    "def cross_entropy_loss(outputs, labels):\n",
    "    loss = 0\n",
    "    for out, l in zip(outputs, labels):\n",
    "        numerator = np.sum([np.e ** o for o in out])\n",
    "        denominator = np.e ** out[l]\n",
    "        loss += (numerator/denominator).log()\n",
    "    return loss\n"
   ]
  },
  {
   "cell_type": "code",
   "execution_count": 7,
   "metadata": {},
   "outputs": [
    {
     "name": "stdout",
     "output_type": "stream",
     "text": [
      "forward | 19.725831747055054\n"
     ]
    },
    {
     "ename": "OverflowError",
     "evalue": "(34, 'Result too large')",
     "output_type": "error",
     "traceback": [
      "\u001b[0;31m---------------------------------------------------------------------------\u001b[0m",
      "\u001b[0;31mOverflowError\u001b[0m                             Traceback (most recent call last)",
      "\u001b[1;32m/Users/sujaygarlanka/Code/567-final-project/code/mnist/mnist.ipynb Cell 7\u001b[0m line \u001b[0;36m2\n\u001b[1;32m     <a href='vscode-notebook-cell:/Users/sujaygarlanka/Code/567-final-project/code/mnist/mnist.ipynb#W6sZmlsZQ%3D%3D?line=22'>23</a>\u001b[0m \u001b[39m# Backward pass\u001b[39;00m\n\u001b[1;32m     <a href='vscode-notebook-cell:/Users/sujaygarlanka/Code/567-final-project/code/mnist/mnist.ipynb#W6sZmlsZQ%3D%3D?line=23'>24</a>\u001b[0m timer\u001b[39m.\u001b[39mstart()\n\u001b[0;32m---> <a href='vscode-notebook-cell:/Users/sujaygarlanka/Code/567-final-project/code/mnist/mnist.ipynb#W6sZmlsZQ%3D%3D?line=24'>25</a>\u001b[0m loss\u001b[39m.\u001b[39;49mbackward()\n\u001b[1;32m     <a href='vscode-notebook-cell:/Users/sujaygarlanka/Code/567-final-project/code/mnist/mnist.ipynb#W6sZmlsZQ%3D%3D?line=25'>26</a>\u001b[0m timer\u001b[39m.\u001b[39mstop(\u001b[39m'\u001b[39m\u001b[39mbackward\u001b[39m\u001b[39m'\u001b[39m)\n\u001b[1;32m     <a href='vscode-notebook-cell:/Users/sujaygarlanka/Code/567-final-project/code/mnist/mnist.ipynb#W6sZmlsZQ%3D%3D?line=27'>28</a>\u001b[0m \u001b[39m# Update weights\u001b[39;00m\n",
      "File \u001b[0;32m~/Code/567-final-project/code/mnist/../lib/value.py:116\u001b[0m, in \u001b[0;36mValue.backward\u001b[0;34m(self)\u001b[0m\n\u001b[1;32m    114\u001b[0m     Backward\u001b[39m.\u001b[39mrelu(node\u001b[39m.\u001b[39mparents[\u001b[39m0\u001b[39m], node\u001b[39m.\u001b[39mgrad)\n\u001b[1;32m    115\u001b[0m \u001b[39melif\u001b[39;00m node\u001b[39m.\u001b[39mop \u001b[39m==\u001b[39m \u001b[39m\"\u001b[39m\u001b[39m**\u001b[39m\u001b[39m\"\u001b[39m:\n\u001b[0;32m--> 116\u001b[0m     Backward\u001b[39m.\u001b[39;49mpower(node\u001b[39m.\u001b[39;49mparents[\u001b[39m0\u001b[39;49m], node\u001b[39m.\u001b[39;49mparents[\u001b[39m1\u001b[39;49m], node\u001b[39m.\u001b[39;49mgrad)\n\u001b[1;32m    117\u001b[0m \u001b[39melif\u001b[39;00m node\u001b[39m.\u001b[39mop \u001b[39m==\u001b[39m \u001b[39m\"\u001b[39m\u001b[39mlog\u001b[39m\u001b[39m\"\u001b[39m:\n\u001b[1;32m    118\u001b[0m     Backward\u001b[39m.\u001b[39mlog(node\u001b[39m.\u001b[39mparents[\u001b[39m0\u001b[39m], node\u001b[39m.\u001b[39mgrad)\n",
      "File \u001b[0;32m~/Code/567-final-project/code/mnist/../lib/value.py:21\u001b[0m, in \u001b[0;36mBackward.power\u001b[0;34m(val_a, val_b, grad)\u001b[0m\n\u001b[1;32m     19\u001b[0m \u001b[39m@staticmethod\u001b[39m\n\u001b[1;32m     20\u001b[0m \u001b[39mdef\u001b[39;00m \u001b[39mpower\u001b[39m(val_a, val_b, grad):\n\u001b[0;32m---> 21\u001b[0m     grad_1 \u001b[39m=\u001b[39m val_b\u001b[39m.\u001b[39mval \u001b[39m*\u001b[39m val_a\u001b[39m.\u001b[39;49mval \u001b[39m*\u001b[39;49m\u001b[39m*\u001b[39;49m (val_b\u001b[39m.\u001b[39;49mval \u001b[39m-\u001b[39;49m \u001b[39m1\u001b[39;49m) \u001b[39m*\u001b[39m grad\n\u001b[1;32m     22\u001b[0m     \u001b[39mif\u001b[39;00m \u001b[39mnot\u001b[39;00m np\u001b[39m.\u001b[39miscomplex(grad_1):\n\u001b[1;32m     23\u001b[0m         val_a\u001b[39m.\u001b[39mgrad \u001b[39m+\u001b[39m\u001b[39m=\u001b[39m grad_1\n",
      "\u001b[0;31mOverflowError\u001b[0m: (34, 'Result too large')"
     ]
    }
   ],
   "source": [
    "# Training\n",
    "nn = NN2()\n",
    "timer = Timer()\n",
    "NUM_EPOCHS = 30\n",
    "BATCH_SIZE = 32\n",
    "LEARNING_RATE = 0.001\n",
    "\n",
    "for epoch in range(NUM_EPOCHS):\n",
    "    running_loss = 0.0\n",
    "    running_correct = 0.0\n",
    "    batch_data = np.split(trn_set_np, len(trn_set_np) / BATCH_SIZE)\n",
    "    batch_labels = np.split(trn_set_np_labels, len(trn_set_np) / BATCH_SIZE)\n",
    "    timer.start()\n",
    "    for d, l in zip(batch_data, batch_labels):\n",
    "        nn.zero_grad()\n",
    "\n",
    "        # Forward pass\n",
    "        timer.start()\n",
    "        outputs = nn(d)\n",
    "        loss = cross_entropy_loss(outputs, l)\n",
    "        timer.stop('forward')\n",
    "\n",
    "        # Backward pass\n",
    "        timer.start()\n",
    "        loss.backward()\n",
    "        timer.stop('backward')\n",
    "        \n",
    "        # Update weights\n",
    "        for p in nn.parameters():\n",
    "            p.val = p.val + -1 * LEARNING_RATE * p.grad\n",
    "\n",
    "        # Metrics\n",
    "        running_loss += loss.val\n",
    "        outputs_vals = np.array([o.val for o in outputs.flatten()]).reshape(outputs.shape)\n",
    "        running_correct += np.sum(np.argmax(outputs_vals, axis=1) == l)\n",
    "    \n",
    "    avg_trn_loss = running_loss / len(batch_data)\n",
    "    avg_trn_acc = running_correct / len(trn_set_np)\n",
    "\n",
    "    print(f\"Epoch: {epoch} | Trn Loss: {avg_trn_loss} | Trn Acc: {avg_trn_acc} | Time elapsed: {timer.stop(None)}\")\n",
    "        \n"
   ]
  }
 ],
 "metadata": {
  "kernelspec": {
   "display_name": "567-final-project",
   "language": "python",
   "name": "python3"
  },
  "language_info": {
   "codemirror_mode": {
    "name": "ipython",
    "version": 3
   },
   "file_extension": ".py",
   "mimetype": "text/x-python",
   "name": "python",
   "nbconvert_exporter": "python",
   "pygments_lexer": "ipython3",
   "version": "3.10.13"
  }
 },
 "nbformat": 4,
 "nbformat_minor": 2
}
